{
 "cells": [
  {
   "cell_type": "markdown",
   "metadata": {},
   "source": [
    "**Q1.** What is the Probability density function?\n",
    "\n",
    "**Ans:**\n",
    "\n",
    "The probability density function (PDF) is a mathematical function that describes the probability distribution of a continuous random variable. It defines the relative likelihood of observing a value of the random variable at any given point in the range of possible values.\n",
    "\n",
    "The PDF is a non-negative function that integrates to 1 over its entire range, and it provides the basis for calculating probabilities for a continuous random variable. Specifically, the probability of observing a value within a certain interval of the range is equal to the area under the PDF curve over that interval."
   ]
  },
  {
   "cell_type": "markdown",
   "metadata": {},
   "source": [
    "**Q2.** What are the types of Probability distribution?\n",
    "\n",
    "**Ans:**\n",
    "\n",
    "There are two types of probability distributions:\n",
    "\n",
    "<b>1. Discrete probability distributions:</b> These probability distributions are defined for discrete random variables, which take on a countable number of possible values. Discrete probability distributions only include the probabilities of values that are possible. In other words, a discrete probability distribution doesn’t include any values with a probability of zero. \n",
    "\n",
    "Examples of discrete probability distributions include the binomial distribution, Poisson distribution, and geometric distribution.\n",
    "    \n",
    "\n",
    "<b>2. Continuous probability distributions:</b> These probability distributions are defined for continuous random variables, which can take on any value within a range. The probability that a continuous variable will have any specific value is so infinitesimally small that it’s considered to have a probability of zero. However, the probability that a value will fall within a certain interval of values within its range is greater than zero. \n",
    "\n",
    "Examples of continuous probability distributions include the normal distribution, exponential distribution, and beta distribution.\n",
    "    "
   ]
  },
  {
   "cell_type": "markdown",
   "metadata": {},
   "source": [
    "**Q3.** Write a Python function to calculate the probability density function of a normal distribution with\n",
    "given mean and standard deviation at a given point.\n",
    "\n",
    "**Ans:**"
   ]
  },
  {
   "cell_type": "code",
   "execution_count": 1,
   "metadata": {},
   "outputs": [
    {
     "name": "stdout",
     "output_type": "stream",
     "text": [
      "0.24197072451914337\n"
     ]
    }
   ],
   "source": [
    "import math\n",
    "\n",
    "def normal_pdf(x, mu, sigma):\n",
    "    \"\"\"\n",
    "    Args:\n",
    "    x - the point at which to evaluate the PDF\n",
    "    mu - the mean of the normal distribution\n",
    "    sigma - the standard deviation of the normal distribution\n",
    "    \n",
    "    Returns:\n",
    "     the value of the PDF at the given point\n",
    "     \n",
    "    \"\"\"\n",
    "    return math.exp(-(x - mu) ** 2 / (2 * sigma ** 2)) / (math.sqrt(2 * math.pi) * sigma)\n",
    "\n",
    "\n",
    "pdf_value = normal_pdf(1, 0, 1)\n",
    "print(pdf_value)"
   ]
  },
  {
   "cell_type": "markdown",
   "metadata": {},
   "source": [
    "**Q4.** What are the properties of Binomial distribution? Give two examples of events where binomial\n",
    "distribution can be applied.\n",
    "\n",
    "**Ans:**\n",
    "\n",
    "Properties of Binomial distribution:\n",
    "\n",
    "* The binomial distribution is a discrete probability distribution.\n",
    "* The binomial distribution describes the number of successes in a fixed number of trials.\n",
    "* Each trial must be independent of the others.\n",
    "* There are only two possible outcomes for each trial: success or failure.\n",
    "* The probability of success remains the same from trial to trial.\n",
    "\n",
    "Examples of events where binomial distribution can be applied:\n",
    "\n",
    "\n",
    "1. Flipping a coin: When a coin is flipped, there are only two possible outcomes - heads or tails. Each flip of the coin is an independent event, and the probability of getting heads or tails remains constant at 0.5 for each flip. The number of heads in a fixed number of coin flips follows a binomial distribution.\n",
    "\n",
    "\n",
    "2. Medical trials: In a medical trial, a group of patients may receive a new drug while another group receives a placebo. The number of patients in the treatment group who show improvement can be modeled using a binomial distribution. Each patient is an independent trial, and the probability of success (improvement) remains constant."
   ]
  },
  {
   "cell_type": "markdown",
   "metadata": {},
   "source": [
    "**Q5.** Generate a random sample of size 1000 from a binomial distribution with probability of success 0.4\n",
    "and plot a histogram of the results using matplotlib.\n",
    "\n",
    "**Ans:**"
   ]
  },
  {
   "cell_type": "code",
   "execution_count": 2,
   "metadata": {},
   "outputs": [
    {
     "data": {
      "image/png": "[encoded data removed]",
      "text/plain": [
       "<Figure size 432x288 with 1 Axes>"
      ]
     },
     "metadata": {
      "needs_background": "light"
     },
     "output_type": "display_data"
    }
   ],
   "source": [
    "import numpy as np\n",
    "import matplotlib.pyplot as plt\n",
    "\n",
    "p = 0.4\n",
    "n = 1000\n",
    "\n",
    "sample = np.random.binomial(n, p, size=n)\n",
    "\n",
    "# Plot the histogram\n",
    "plt.hist(sample, bins=20)\n",
    "plt.title(\"Binomial Distribution with n=1000, p=0.4\")\n",
    "plt.xlabel(\"Number of Successes\")\n",
    "plt.ylabel(\"Frequency\")\n",
    "plt.show()"
   ]
  },
  {
   "cell_type": "markdown",
   "metadata": {},
   "source": [
    "**Q6.** Write a Python function to calculate the cumulative distribution function of a Poisson distribution\n",
    "with given mean at a given point.\n",
    "\n",
    "**Ans:**"
   ]
  },
  {
   "cell_type": "code",
   "execution_count": 3,
   "metadata": {},
   "outputs": [
    {
     "name": "stdout",
     "output_type": "stream",
     "text": [
      "P(X <= 3) = 0.7576\n"
     ]
    }
   ],
   "source": [
    "import math\n",
    "\n",
    "def poisson_cdf(mu, k):\n",
    "    cdf = 0.0\n",
    "    for i in range(k+1):\n",
    "        cdf += math.exp(-mu) * (mu**i) / math.factorial(i)\n",
    "    return cdf\n",
    "\n",
    "# P(X=k) = (e^(-mu) * mu^k) / k!\n",
    "\n",
    "mu = 2.5\n",
    "k = 3\n",
    "print(\"P(X <= 3) = {:.4f}\".format(poisson_cdf(mu, k)))"
   ]
  },
  {
   "cell_type": "markdown",
   "metadata": {},
   "source": [
    "**Q7.** How Binomial distribution different from Poisson distribution?\n",
    "\n",
    "**Ans:**\n",
    "\n",
    "Binomial and Poisson distributions are both discrete probability distributions, but they have different characteristics and are used to model different types of events.\n",
    "\n",
    "Binomial distribution is used to model events with two possible outcomes, such as success or failure. It has the following properties:\n",
    "\n",
    "* Fixed number of trials\n",
    "* Each trial is independent and has the same probability of success\n",
    "* Two possible outcomes: success or failure\n",
    "* Discrete outcomes (whole numbers)\n",
    "* Mean and variance are calculated as n * p, where n is the number of trials and p is the probability of success\n",
    "\n",
    "\n",
    "Poisson distribution is used to model the number of events that occur in a fixed time or space, given a certain average rate of occurrence. It has the following properties:\n",
    "\n",
    "* Number of events is not fixed, but can be any non-negative integer\n",
    "* Events occur randomly and independently of each other\n",
    "* Continuous outcomes (can take any non-negative integer value)\n",
    "* Mean and variance are equal and calculated as λ, where λ is the average rate of occurrence"
   ]
  },
  {
   "cell_type": "markdown",
   "metadata": {},
   "source": [
    "**Q8.** Generate a random sample of size 1000 from a Poisson distribution with mean 5 and calculate the\n",
    "sample mean and variance.\n",
    "\n",
    "**Ans:**"
   ]
  },
  {
   "cell_type": "code",
   "execution_count": 4,
   "metadata": {},
   "outputs": [
    {
     "name": "stdout",
     "output_type": "stream",
     "text": [
      "Sample mean: 4.919\n",
      "Sample variance: 5.035474474474475\n"
     ]
    }
   ],
   "source": [
    "import numpy as np\n",
    "\n",
    "# Set the random seed for reproducibility\n",
    "np.random.seed(123)\n",
    "\n",
    "# Generate a random sample of size 1000 from a Poisson distribution with mean 5\n",
    "sample = np.random.poisson(5, size=1000)\n",
    "\n",
    "# Calculate the sample mean and variance\n",
    "mean = np.mean(sample)\n",
    "variance = np.var(sample, ddof=1)\n",
    "\n",
    "# Print the results\n",
    "print(\"Sample mean:\", mean)\n",
    "print(\"Sample variance:\", variance)"
   ]
  },
  {
   "cell_type": "markdown",
   "metadata": {},
   "source": [
    "**Q9.** How mean and variance are related in Binomial distribution and Poisson distribution?\n",
    "\n",
    "**Ans:**\n",
    "\n",
    "In a binomial distribution, the mean (μ) is equal to the product of the number of trials (n) and the probability of success in each trial (p), i.e., μ = np. The variance (σ^2) of a binomial distribution is equal to the product of n, p, and (1-p), i.e., σ^2 = np(1-p).\n",
    "\n",
    "In a Poisson distribution, the mean (μ) is equal to the parameter λ, which represents the average rate of occurrence of events in a fixed time interval, i.e., μ = λ. The variance (σ^2) of a Poisson distribution is also equal to λ, i.e., σ^2 = λ.\n",
    "\n",
    "Therefore, in both binomial and Poisson distributions, the variance is related to the mean. In the case of a binomial distribution, the variance increases as the probability of success (p) approaches 0 or 1, and decreases as p approaches 0.5."
   ]
  },
  {
   "cell_type": "markdown",
   "metadata": {},
   "source": [
    "**Q10.** In normal distribution with respect to mean position, where does the least frequent data appear?\n",
    "\n",
    "**Ans:**\n",
    "\n",
    "In a normal distribution, the least frequent data appear in the tails of the distribution, which are the regions that are farther away from the mean. Specifically, the data in the tails that are beyond two or three standard deviations from the mean are considered to be outliers or extreme values and are relatively rare in a normal distribution. The majority of the data, about 68%, falls within one standard deviation of the mean, while about 95% falls within two standard deviations, and about 99.7% falls within three standard deviations.\n",
    "In a normal distribution, the least frequent data appears at the two extremes of the distribution, which are the tails. These are the values that are located furthest away from the mean, and therefore, have the lowest frequencies. "
   ]
  }
 ],
 "metadata": {
  "kernelspec": {
   "display_name": "Python 3",
   "language": "python",
   "name": "python3"
  },
  "language_info": {
   "codemirror_mode": {
    "name": "ipython",
    "version": 3
   },
   "file_extension": ".py",
   "mimetype": "text/x-python",
   "name": "python",
   "nbconvert_exporter": "python",
   "pygments_lexer": "ipython3",
   "version": "3.8.5"
  }
 },
 "nbformat": 4,
 "nbformat_minor": 4
}
