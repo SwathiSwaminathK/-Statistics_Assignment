{
 "cells": [
  {
   "cell_type": "markdown",
   "metadata": {},
   "source": [
    "**Q1: What are the Probability Mass Function (PMF) and Probability Density Function (PDF)? Explain with\n",
    "an example.**\n",
    "\n",
    "**Ans:**\n",
    "\n",
    "<b>Probability Mass Function (PMF)</b> is a function that maps each possible value of a discrete random variable to its probability of occurrence. It can be expressed as P(X = x), where X is a random variable and x is a possible value it can take.\n",
    "\n",
    "For example: \n",
    "\n",
    "The PMF of this die can be expressed as:\n",
    "\n",
    "P(X = 1) = 1/6\n",
    "P(X = 2) = 1/6\n",
    "P(X = 3) = 1/6\n",
    "P(X = 4) = 1/6\n",
    "P(X = 5) = 1/6\n",
    "P(X = 6) = 1/6\n",
    "\n",
    "    Here, X is the random variable representing the number on the die, and each possible value of X has an equal probability of occurring.\n",
    "\n",
    "\n",
    "\n",
    "<b>Probability Density Function (PDF)</b> is a function that describes the density of probability for a continuous random variable. It gives the relative likelihood of a value occurring within a range of values. The total area under the PDF curve is equal to 1.\n",
    "\n",
    "For example: \n",
    "\n",
    "Suppose we have a continuous random variable X, which follows a normal distribution with mean μ = 0 and standard deviation σ = 1. The PDF of X can be expressed as:\n",
    "\n",
    "f(x) = (1/√(2πσ^2)) * e^(-(x-μ)^2 / (2σ^2))\n",
    "\n",
    "    Here, f(x) gives the density of probability for any value x of the random variable X. The curve is symmetric around the mean, with a peak at the mean, and it decreases as we move away from the mean. The total area under the curve between any two points represents the probability of X falling within that range of values."
   ]
  },
  {
   "cell_type": "markdown",
   "metadata": {},
   "source": [
    "**Q2: What is Cumulative Density Function (CDF)? Explain with an example. Why CDF is used?**\n",
    "\n",
    "**Ans:**\n",
    "\n",
    "Cumulative Distribution Function (CDF) is a function that describes the probability that a random variable X takes on a value less than or equal to x, for every possible value of x. The CDF is denoted by F(x) and defined as:\n",
    "\n",
    "F(x) = P(X <= x)\n",
    "\n",
    "In other words, the CDF gives the probability of the random variable being less than or equal to a particular value.\n",
    "\n",
    "For example: \n",
    "\n",
    "Consider the rolling of a fair six-sided die. The CDF for this event is:\n",
    "\n",
    "F(x) = P(X <= 1) = 1/6\n",
    "F(x) = P(X <= 2) = 1/6 + 1/6 = 1/3\n",
    "\n",
    "The CDF is used to determine the probability of an event occurring within a range of values. It can also be used to calculate the probability of a value falling between two other values. Additionally, the CDF can be used to calculate other statistical measures such as median and quartiles."
   ]
  },
  {
   "cell_type": "markdown",
   "metadata": {},
   "source": [
    "**Q3: What are some examples of situations where the normal distribution might be used as a model?\n",
    "Explain how the parameters of the normal distribution relate to the shape of the distribution.**\n",
    "\n",
    "**Ans:**\n",
    "\n",
    "The normal distribution is a widely used model in many fields, particularly in statistics and natural sciences. Some examples of situations where the normal distribution might be used as a model are:\n",
    "\n",
    "1. Height: The height of a population can be modeled by a normal distribution. The mean of the distribution represents the average height, while the standard deviation represents the variation in height.\n",
    "\n",
    "2. IQ scores: IQ scores are known to be normally distributed. The mean of the distribution represents the average IQ score, while the standard deviation represents the variation in IQ scores.\n",
    "\n",
    "3. Weight: Body weight is another example where the normal distribution can be used as a model. The mean represents the average weight, while the standard deviation represents the variation in weight.\n",
    "\n",
    "4. Errors in measurement: Errors in measurement are often assumed to follow a normal distribution. The mean represents the true value of the quantity being measured, while the standard deviation represents the uncertainty in the measurement.\n",
    "\n",
    "\n",
    "The parameters of the normal distribution, namely the mean and the standard deviation, determine the shape of the distribution. The mean determines the location of the distribution on the x-axis, while the standard deviation determines the spread of the distribution. A larger standard deviation results in a wider, flatter distribution, while a smaller standard deviation results in a narrower, taller distribution."
   ]
  },
  {
   "cell_type": "markdown",
   "metadata": {},
   "source": [
    "**Q4: Explain the importance of Normal Distribution. Give a few real-life examples of Normal\n",
    "Distribution.**\n",
    "\n",
    "**Ans:**\n",
    "\n",
    "The normal distribution is an essential concept in statistics and probability theory. It is considered essential because many natural phenomena tend to follow a normal distribution. It is also known as the bell curve or Gaussian distribution.\n",
    "\n",
    "The importance of the normal distribution lies in its usefulness as a model for real-world data. The normal distribution allows us to make predictions and inferences about a population based on a sample of data. Many statistical methods rely on the assumption of normality, and the normal distribution plays a crucial role in hypothesis testing, confidence intervals, and regression analysis.\n",
    "\n",
    "There are many real-life examples of the normal distribution. Some examples include:\n",
    "\n",
    "1. Heights of people: The heights of people tend to follow a normal distribution. Most people fall within the middle range of heights, while very tall or very short people are less common.\n",
    "\n",
    "2. Exam scores: In a large enough sample, exam scores tend to follow a normal distribution. This is useful for setting grades and predicting student performance.\n",
    "\n",
    "3. IQ scores: IQ scores are standardized to follow a normal distribution, with a mean of 100 and a standard deviation of 15. This allows for meaningful comparisons between individuals.\n",
    "\n",
    "4. Weight of objects: The weight of objects of a particular type tends to follow a normal distribution. For example, the weight of apples from the same tree will follow a normal distribution.\n",
    "\n",
    "In summary, the normal distribution is important because it is a useful model for real-world data and plays a critical role in many statistical methods. It allows us to make predictions and inferences about a population based on a sample of data."
   ]
  },
  {
   "cell_type": "markdown",
   "metadata": {},
   "source": [
    "**Q5: What is Bernaulli Distribution? Give an Example. What is the difference between Bernoulli\n",
    "Distribution and Binomial Distribution?**\n",
    "\n",
    "**Ans:**\n",
    "\n",
    "Bernoulli distribution is a discrete probability distribution that describes the outcomes of a single binary experiment. In other words, it models the probability of success or failure of a single trial. The Bernoulli distribution takes a single parameter, p, which represents the probability of success. The probability mass function (PMF) of the Bernoulli distribution is:\n",
    "\n",
    "P(X=1) = p\n",
    "P(X=0) = 1-p\n",
    "\n",
    "where X is a random variable representing the outcome of the experiment.\n",
    "\n",
    "An example of the Bernoulli distribution is the probability of flipping a fair coin and getting heads, which is 0.5. In this case, p=0.5 represents the probability of success (getting heads), and 1-p=0.5 represents the probability of failure (getting tails).\n",
    "\n",
    "The main difference between the Bernoulli distribution and the Binomial distribution is that the Bernoulli distribution models the probability of a single trial, whereas the Binomial distribution models the probability of a series of independent and identically distributed (i.i.d) trials, each with its own Bernoulli distribution. In other words, the Binomial distribution is the sum of n independent and identically distributed Bernoulli random variables."
   ]
  },
  {
   "cell_type": "markdown",
   "metadata": {},
   "source": [
    "**Q6. Consider a dataset with a mean of 50 and a standard deviation of 10. If we assume that the dataset is normally distributed, what is the probability that a randomly selected observation will be greater than 60? Use the appropriate formula and show your calculations.**\n",
    "\n",
    "**Ans:**\n",
    "\n",
    "To solve this problem, we use the standard normal distribution and the z-score formula.\n",
    "\n",
    "First, standardize the value 60 using the formula:\n",
    "\n",
    "z = (x - μ) / σ\n",
    "\n",
    "where x is the value we want to find the probability for, μ is the mean of the dataset, and σ is the standard deviation of the dataset.\n",
    "\n",
    "So, x = 60, μ = 50, and σ = 10:\n",
    "\n",
    "z = (60 - 50) / 10 = 1\n",
    "\n",
    "Next, we use a standard normal distribution table or calculator to find the probability of a z-score of 1 or greater.\n",
    "\n",
    "From the table or calculator, we find that the probability of a z-score of 1 or greater is approximately 0.1587.\n",
    "\n",
    "Therefore, the probability that a randomly selected observation from the dataset will be greater than 60 is approximately 0.1587 or 15.87%."
   ]
  },
  {
   "cell_type": "markdown",
   "metadata": {},
   "source": [
    "**Q7: Explain Uniform Distribution with an example.**\n",
    "\n",
    "**Ans:**\n",
    "\n",
    "Uniform Distribution is a probability distribution where all possible outcomes are equally likely. It is often used to model situations where any value within a certain range is equally probable. In a uniform distribution, the probability density function is constant between two values and zero elsewhere.\n",
    "\n",
    "For example, suppose we have a fair six-sided die. Each face of the die has an equal probability of being rolled. The probability of rolling any specific number on the die is 1/6, and the probability of rolling any number between 1 and 6 is 1.0. This can be modeled using a uniform distribution, where the probability density function is flat and equal to 1/6 for any number between 1 and 6."
   ]
  },
  {
   "cell_type": "markdown",
   "metadata": {},
   "source": [
    "**Q8: What is the z score? State the importance of the z score.**\n",
    "\n",
    "**Ans:**\n",
    "\n",
    "The z-score (also known as standard score or normalized score) is a measure of how many standard deviations a data point is from the mean of a population. It is calculated by subtracting the mean from the observation and dividing the result by the standard deviation. The z-score indicates whether the observation is above or below the mean and by how many standard deviations.\n",
    "\n",
    "The importance of the z-score lies in its ability to standardize data and make it comparable across different populations and variables. By converting raw data to z-scores, we can compare observations from different datasets or variables on the same scale, regardless of their units or scales of measurement. This can help us identify extreme values or outliers in a dataset, as well as make statistical inferences and predictions using standard normal distribution tables or software."
   ]
  },
  {
   "cell_type": "markdown",
   "metadata": {},
   "source": [
    "**Q9: What is Central Limit Theorem? State the significance of the Central Limit Theorem.**\n",
    "\n",
    "**Ans:**\n",
    "\n",
    "The Central Limit Theorem (CLT) is a fundamental concept in statistics that states that the distribution of the sample means of a population, drawn from a large enough sample size, will be approximately normally distributed, regardless of the underlying distribution of the population. In other words, as the sample size increases, the sampling distribution of the mean will become more normal, even if the population from which the samples are drawn is not normally distributed.\n",
    "\n",
    "The significance of the CLT:\n",
    "\n",
    "* It provides a powerful tool for inferential statistics. \n",
    "\n",
    "* It allows us to make inferences about the population parameters based on the sample means, even if the underlying population distribution is unknown or non-normal. \n",
    "\n",
    "* It justifies the use of parametric statistical methods such as the t-test, ANOVA, and linear regression, which rely on the assumption of normality."
   ]
  },
  {
   "cell_type": "markdown",
   "metadata": {},
   "source": [
    "**Q10: State the assumptions of the Central Limit Theorem.**\n",
    "\n",
    "**Ans:**\n",
    "\n",
    "The Central Limit Theorem (CLT) makes the following assumptions:\n",
    "\n",
    "\n",
    "1. The sample is a simple random sample.\n",
    "\n",
    "2. The sample size is sufficiently large, typically n > 30.\n",
    "\n",
    "3. The population has a finite variance or standard deviation.\n",
    "\n",
    "4. The observations in the sample are independent.\n",
    "\n",
    "These assumptions are necessary for the CLT to hold and for the sample mean to have a normal distribution. If these assumptions are not met, then the CLT may not apply and the sample mean may not be normally distributed."
   ]
  },
  {
   "cell_type": "code",
   "execution_count": null,
   "metadata": {},
   "outputs": [],
   "source": []
  }
 ],
 "metadata": {
  "kernelspec": {
   "display_name": "Python 3",
   "language": "python",
   "name": "python3"
  },
  "language_info": {
   "codemirror_mode": {
    "name": "ipython",
    "version": 3
   },
   "file_extension": ".py",
   "mimetype": "text/x-python",
   "name": "python",
   "nbconvert_exporter": "python",
   "pygments_lexer": "ipython3",
   "version": "3.8.5"
  }
 },
 "nbformat": 4,
 "nbformat_minor": 4
}
