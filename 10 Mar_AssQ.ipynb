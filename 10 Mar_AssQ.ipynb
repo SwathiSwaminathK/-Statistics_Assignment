{
 "cells": [
  {
   "cell_type": "markdown",
   "metadata": {},
   "source": [
    "**Q1: What is Estimation Statistics? Explain point estimate and interval estimate.**\n",
    "\n",
    "**Ans:**\n",
    "\n",
    "**Estimation statistics** is a branch of statistics that deals with the process of estimating an unknown population parameter based on sample data. In other words, estimation statistics allows us to make inferences about a population based on a sample of data.\n",
    "\n",
    "There are two types of Estimation in statistics:\n",
    "\n",
    "1. **Point estimate** refers to a single value that is used to estimate an unknown population parameter. For example, if we want to estimate the mean height of all adults in a country, we can take a sample of adults and use the sample mean as a point estimate of the population mean.\n",
    "\n",
    "\n",
    "2. **Interval estimate** provides a range of values within which the unknown population parameter is likely to lie. Interval estimates are typically reported with a certain level of confidence, which represents the probability that the true population parameter falls within the interval estimate. For example, if we want to estimate the average salary of all employees in a company, we can take a sample and calculate a confidence interval for the population mean salary."
   ]
  },
  {
   "cell_type": "markdown",
   "metadata": {},
   "source": [
    "**Q2. Write a Python function to estimate the population mean using a sample mean and standard deviation.**\n",
    "\n",
    "**Ans:**\n"
   ]
  },
  {
   "cell_type": "code",
   "execution_count": 1,
   "metadata": {},
   "outputs": [],
   "source": [
    "def estimate_population_mean(sample_mean, sample_std, sample_size):\n",
    "    import math\n",
    "    \n",
    "    standard_error = sample_std / math.sqrt(sample_size)\n",
    "    z_critical = 1.96  # for 95% confidence level\n",
    "    \n",
    "    lower_bound = sample_mean - z_critical * standard_error\n",
    "    upper_bound = sample_mean + z_critical * standard_error\n",
    "    \n",
    "    population_mean = (lower_bound + upper_bound) / 2\n",
    "    \n",
    "    return population_mean"
   ]
  },
  {
   "cell_type": "code",
   "execution_count": 2,
   "metadata": {},
   "outputs": [
    {
     "data": {
      "text/plain": [
       "3.4"
      ]
     },
     "execution_count": 2,
     "metadata": {},
     "output_type": "execute_result"
    }
   ],
   "source": [
    "estimate_population_mean(3.4,2,39)"
   ]
  },
  {
   "cell_type": "markdown",
   "metadata": {},
   "source": [
    "**Q3: What is Hypothesis testing? Why is it used? State the importance of Hypothesis testing.**\n",
    "\n",
    "**Ans:**\n",
    "\n",
    "Hypothesis testing is a statistical method used to make decisions about the population based on sample data. It involves formulating a hypothesis about a population parameter and using sample data to either accept or reject the hypothesis.\n",
    "\n",
    "\n",
    "Hypothesis testing is used in various fields, including science, engineering, business, medicine, and social sciences. It is used to determine whether the sample data supports or contradicts a hypothesis about the population. The results of a hypothesis test help in making informed decisions and drawing valid conclusions based on data.\n",
    "\n",
    "\n",
    "The importance of hypothesis testing lies in its ability to provide a formal framework for evaluating evidence and making decisions based on data. It allows researchers and decision-makers to draw conclusions about populations based on a limited amount of data. It helps in determining whether the observed differences between groups or variables are statistically significant or merely due to chance. Hypothesis testing helps in testing scientific theories and making evidence-based decisions, which is crucial for progress in various fields."
   ]
  },
  {
   "cell_type": "markdown",
   "metadata": {},
   "source": [
    "**Q4. Create a hypothesis that states whether the average weight of male college students is greater than\n",
    "the average weight of female college students.**\n",
    "\n",
    "**Ans:**\n",
    "\n",
    "The following are the steps to create a hypothesis that states whether the average weight of male college students is greater than the average weight of female college students:\n",
    "\n",
    "\n",
    "1. **Identify the research question:** The first step is to clearly identify the research question. In this case, the research question is whether there is a difference in the average weight of male and female college students.\n",
    "\n",
    "\n",
    "2. **Formulate the null hypothesis:** The null hypothesis is the statement that there is no difference between the average weight of male and female college students. The null hypothesis can be stated as:\n",
    "\n",
    "    H0: μM = μF  \n",
    "    \n",
    "    where μM is the population mean weight of male college students and μF is the population mean weight of female college students.\n",
    "    \n",
    "\n",
    "3. **Formulate the alternative hypothesis:** The alternative hypothesis is the statement that there is a difference between the average weight of male and female college students. The alternative hypothesis can be stated as:\n",
    "\n",
    "    Ha: μM > μF\n",
    "\n",
    "    where μM is the population mean weight of male college students and μF is the population mean weight of female college students.\n",
    "\n",
    "\n",
    "4. **Determine the significance level:** The significance level (α) is the probability of rejecting the null hypothesis when it is actually true. The most commonly used significance level is 0.05 or 5%.\n",
    "\n",
    "\n",
    "5. **Choose the appropriate statistical test:** In this case, the appropriate statistical test is the two-sample t-test.\n",
    "\n",
    "\n",
    "6. **Collect data and calculate the test statistic:** Collect data on the weights of male and female college students and calculate the test statistic using the two-sample t-test formula.\n",
    "\n",
    "\n",
    "7. **Determine the p-value:** The p-value is the probability of obtaining a test statistic as extreme as the one calculated from the sample, assuming the null hypothesis is true.\n",
    "\n",
    "\n",
    "8. **Compare the p-value to the significance level:** If the p-value is less than the significance level, reject the null hypothesis. If the p-value is greater than the significance level, do not reject the null hypothesis.\n",
    "\n",
    "\n",
    "9. **Draw a conclusion:** Based on the results of the hypothesis test, draw a conclusion about whether there is evidence to support the claim that the average weight of male college students is greater than the average weight of female college students."
   ]
  },
  {
   "cell_type": "markdown",
   "metadata": {},
   "source": [
    "**Q5. Write a Python script to conduct a hypothesis test on the difference between two population means,\n",
    "given a sample from each population.**"
   ]
  },
  {
   "cell_type": "code",
   "execution_count": 4,
   "metadata": {},
   "outputs": [
    {
     "name": "stdout",
     "output_type": "stream",
     "text": [
      "Sample 1 - Mean: 10.05421814698072, \n",
      "Standard Deviation: 2.256480940955922\n",
      "Sample 2 - Mean: 11.94139331426956, \n",
      "Standard Deviation: 2.9101607655196466\n",
      "T-Statistic: -5.099036081445628, \n",
      "P-Value: 7.957066733958851e-07\n",
      "Decision: Reject H0\n"
     ]
    }
   ],
   "source": [
    "import numpy as np\n",
    "from scipy.stats import ttest_ind\n",
    "\n",
    "# Generate two sets of sample data with different means and variances\n",
    "np.random.seed(123)\n",
    "sample1 = np.random.normal(loc=10, scale=2, size=100)\n",
    "sample2 = np.random.normal(loc=12, scale=3, size=100)\n",
    "\n",
    "# Calculate the means and standard deviations of the two samples\n",
    "mean1 = np.mean(sample1)\n",
    "std1 = np.std(sample1)\n",
    "mean2 = np.mean(sample2)\n",
    "std2 = np.std(sample2)\n",
    "\n",
    "# Print the sample statistics\n",
    "print(\"Sample 1 - Mean: {}, \\nStandard Deviation: {}\".format(mean1, std1))\n",
    "print(\"Sample 2 - Mean: {}, \\nStandard Deviation: {}\".format(mean2, std2))\n",
    "\n",
    "# Conduct a two-sample t-test with equal variances assumed\n",
    "t_stat, p_val = ttest_ind(sample1, sample2, equal_var=True)\n",
    "\n",
    "# Print the results of the t-test\n",
    "print(\"T-Statistic: {}, \\nP-Value: {}\".format(t_stat, p_val))\n",
    "\n",
    "alpha=0.05\n",
    "\n",
    "if p_val < alpha:\n",
    "    decision = \"Reject H0\"\n",
    "else:\n",
    "    decision = \"Fail to reject H0\"\n",
    "    \n",
    "print(f\"Decision: {decision}\")"
   ]
  },
  {
   "cell_type": "markdown",
   "metadata": {},
   "source": [
    "**Q6: What is a null and alternative hypothesis? Give some examples.**\n",
    "\n",
    "**Ans:**\n",
    "\n",
    "The null hypothesis (H0) is a statement that there is no significant difference between two populations, or that there is no relationship between two variables. The alternative hypothesis (Ha), on the other hand, is a statement that there is a significant difference or relationship between the two populations or variables being studied.\n",
    "\n",
    "Examples of null and alternative hypotheses:\n",
    "\n",
    "1. Null hypothesis: The average weight loss for a new diet plan is equal to 5 pounds.\n",
    "\n",
    "   Alternative hypothesis: The average weight loss for a new diet plan is greater than 5 pounds.\n",
    "    \n",
    "\n",
    "2. Null hypothesis: There is no difference in the sales of product A between men and women.\n",
    "\n",
    "   Alternative hypothesis: There is a difference in the sales of product A between men and women.\n",
    "\n",
    "\n",
    "3. Null hypothesis: The average commute time by car is less than or equal to 30 minutes.\n",
    "\n",
    "   Alternative hypothesis: The average commute time by car is greater than 30 minutes.\n",
    "\n",
    "\n",
    "4. Null hypothesis: There is no significant difference in test scores between two groups of students.\n",
    "\n",
    "   Alternative hypothesis: There is a significant difference in test scores between two groups of students."
   ]
  },
  {
   "cell_type": "markdown",
   "metadata": {},
   "source": [
    "**Q7: Write down the steps involved in hypothesis testing.**\n",
    "\n",
    "**Ans:**\n",
    "\n",
    "Steps involved in hypothesis testing are as follows:\n",
    "\n",
    "1. State the null and alternative hypotheses\n",
    "\n",
    "2. Determine the level of significance (alpha) and select the appropriate test statistic\n",
    "\n",
    "3. Collect the data and calculate the test statistic\n",
    "\n",
    "4. Determine the p-value associated with the test statistic\n",
    "\n",
    "5. Compare the p-value to the level of significance and make a decision regarding the null hypothesis\n",
    "\n",
    "6. Draw conclusions and interpret the results in the context of the problem."
   ]
  },
  {
   "cell_type": "markdown",
   "metadata": {},
   "source": [
    "**Q8. Define p-value and explain its significance in hypothesis testing.**\n",
    "\n",
    "**Ans:**\n",
    "\n",
    "In hypothesis testing, the p-value is the probability of obtaining a test statistic as extreme or more extreme than the observed results, assuming the null hypothesis is true.\n",
    "\n",
    "A p-value is significant if it is less than the significance level (alpha) chosen for the test. If the p-value is less than alpha, then we reject the null hypothesis in favor of the alternative hypothesis, which means that the observed results are unlikely to have occurred by chance alone and there is evidence in favor of the alternative hypothesis.\n",
    "\n",
    "The significance of the p-value is that it allows us to make an objective decision about whether to reject or fail to reject the null hypothesis, based on the strength of the evidence in the sample data. A smaller p-value indicates stronger evidence against the null hypothesis, while a larger p-value suggests weaker evidence and a failure to reject the null hypothesis."
   ]
  },
  {
   "cell_type": "markdown",
   "metadata": {},
   "source": [
    "**Q9. Generate a Student's t-distribution plot using Python's matplotlib library, with the degrees of freedom parameter set to 10.**\n",
    "\n",
    "**Ans:**"
   ]
  },
  {
   "cell_type": "code",
   "execution_count": 2,
   "metadata": {},
   "outputs": [
    {
     "data": {
      "image/png": "[encoded data removed]",
      "text/plain": [
       "<Figure size 432x288 with 1 Axes>"
      ]
     },
     "metadata": {
      "needs_background": "light"
     },
     "output_type": "display_data"
    }
   ],
   "source": [
    "import numpy as np\n",
    "import matplotlib.pyplot as plt\n",
    "from scipy.stats import t\n",
    "\n",
    "df = 10  # degrees of freedom\n",
    "x = np.linspace(t.ppf(0.001, df), t.ppf(0.999, df), 100)  # range of values for the x-axis\n",
    "y = t.pdf(x, df)  # values for the y-axis\n",
    "\n",
    "plt.plot(x, y)\n",
    "plt.title(\"Student's t-distribution (df=10)\")\n",
    "plt.xlabel('x')\n",
    "plt.ylabel('PDF')\n",
    "plt.show()"
   ]
  },
  {
   "cell_type": "markdown",
   "metadata": {},
   "source": [
    "**Q10. Write a Python program to calculate the two-sample t-test for independent samples, given two random samples of equal size and a null hypothesis that the population means are equal.**\n",
    "\n",
    "**Ans:**"
   ]
  },
  {
   "cell_type": "code",
   "execution_count": 6,
   "metadata": {},
   "outputs": [
    {
     "name": "stdout",
     "output_type": "stream",
     "text": [
      "Null hypothesis:  Population means are equal\n",
      "t-value:  -8.353577087564984\n",
      "p-value:  1.1443940683550736e-14\n",
      "Reject the null hypothesis, because the p-value is 0.000 < 0.050.\n"
     ]
    }
   ],
   "source": [
    "import numpy as np\n",
    "from scipy import stats\n",
    "\n",
    "# Generate two random samples of equal size\n",
    "sample1 = np.random.normal(loc=10, scale=2, size=100)\n",
    "sample2 = np.random.normal(loc=12, scale=2, size=100)\n",
    "\n",
    "# Set null hypothesis: population means are equal\n",
    "null_hypothesis = \"Population means are equal\"\n",
    "\n",
    "# Calculate t-value and p-value using two-sample t-test\n",
    "t_value, p_value = stats.ttest_ind(sample1, sample2)\n",
    "\n",
    "# Print results\n",
    "print(\"Null hypothesis: \", null_hypothesis)\n",
    "print(\"t-value: \", t_value)\n",
    "print(\"p-value: \", p_value)\n",
    "\n",
    "alpha = 0.05\n",
    "\n",
    "if p_value < alpha:\n",
    "    print(f\"Reject the null hypothesis, because the p-value is {p_value:.3f} < {alpha:.3f}.\")\n",
    "else:\n",
    "    print(f\"Fail to reject the null hypothesis, because the p-value is {p_value:.3f} >= {alpha:.3f}.\")"
   ]
  },
  {
   "cell_type": "markdown",
   "metadata": {},
   "source": [
    "**Q11: What is Student’s t distribution? When to use the t-Distribution.**\n",
    "\n",
    "**Ans:**\n",
    "\n",
    "Student's t-distribution is a probability distribution used in hypothesis testing and confidence interval estimation when the sample size is small or the population standard deviation is unknown. It is a continuous probability distribution that is similar to the standard normal distribution but has heavier tails.\n",
    "\n",
    "The t-distribution is used in various cases:\n",
    "\n",
    "* The t-distribution is used when the sample size is small (less than 30) and the population standard deviation is unknown.\n",
    "\n",
    "* It is commonly used in situations where the sample size is limited, such as in medical research, psychology, and social sciences. \n",
    "\n",
    "* The t-distribution is also used to calculate confidence intervals and hypothesis tests for population means, which cannot be calculated using the standard normal distribution when the population standard deviation is unknown.\n",
    "\n",
    "* The t-distribution is used in analysis of variance (ANOVA) to test hypotheses about the means of multiple populations."
   ]
  },
  {
   "cell_type": "markdown",
   "metadata": {},
   "source": [
    "**Q12: What is t-statistic? State the formula for t-statistic.**\n",
    "\n",
    "**Ans:**\n",
    "\n",
    "t-statistic is a test statistic that is used to test the hypothesis about the population mean when the sample size is small (less than 30) and/or when the population standard deviation is unknown. The formula for t-statistic is given by:\n",
    "\n",
    "<b>t = (x̄ - μ) / (s / √n)</b>\n",
    "\n",
    "where:\n",
    "\n",
    "    x̄ is the sample mean\n",
    "    μ is the population mean (hypothesized value)\n",
    "    s is the sample standard deviation\n",
    "    n is the sample size"
   ]
  },
  {
   "cell_type": "markdown",
   "metadata": {},
   "source": [
    "**Q13. A coffee shop owner wants to estimate the average daily revenue for their shop. They take a random sample of 50 days and find the sample mean revenue to be Rs.500 with a standard deviation of Rs.50. Estimate the population mean revenue with a 95% confidence interval\n",
    "\n",
    "**Ans:**\n",
    "\n",
    "Given data:\n",
    "\n",
    "Sample size (n) = 50\n",
    "\n",
    "Sample mean (x̄) = Rs. 500\n",
    "\n",
    "Standard deviation (s) = Rs. 50\n",
    "\n",
    "Confidence level = 95%\n",
    "\n",
    "\n",
    "As we want to estimate the population mean with a 95% confidence interval, we can use the t-distribution since the population standard deviation is unknown.\n",
    "\n",
    "\n",
    "First, we need to calculate the t-value using the t-distribution table with (n-1) degrees of freedom and the given confidence level of 95%. Since the sample size is 50, the degrees of freedom will be 49.\n",
    "\n",
    "\n",
    "The t-value for a 95% confidence level with 49 degrees of freedom is 2.009.\n",
    "\n",
    "Next, we can calculate the margin of error using the formula:\n",
    "\n",
    "    Margin of error = t-value * (s / √n)\n",
    "\n",
    "    Margin of error = 2.009 * (50 / √50) = 14.2\n",
    "\n",
    "Finally, we can calculate the confidence interval using the formula:\n",
    "\n",
    "    Confidence interval = sample mean ± margin of error\n",
    "\n",
    "Substituting the given values, we get:\n",
    "\n",
    "    Confidence interval = 500 ± 14.2\n",
    "\n",
    "Therefore, the 95% confidence interval for the population mean revenue is (Rs. 485.8, Rs. 514.2)."
   ]
  },
  {
   "cell_type": "markdown",
   "metadata": {},
   "source": [
    "**Q14. A researcher hypothesizes that a new drug will decrease blood pressure by 10 mmHg. They conduct a clinical trial with 100 patients and find that the sample mean decrease in blood pressure is 8 mmHg with a standard deviation of 3 mmHg. Test the hypothesis with a significance level of 0.05.**\n",
    "\n",
    "**Ans:**\n",
    "\n",
    "To test the hypothesis, we need to conduct a one-sample t-test. The null and alternative hypotheses are:\n",
    "\n",
    "Null hypothesis: The mean decrease in blood pressure is not 10 mmHg (µ = 10).\n",
    "Alternative hypothesis: The mean decrease in blood pressure is less than 10 mmHg (µ < 10).\n",
    "\n",
    "The significance level is 0.05, so the critical t-value for a one-tailed test with 99 degrees of freedom is -1.660.\n",
    "\n",
    "We can calculate the t-statistic using the formula:\n",
    "\n",
    "<b>t = (x̄ - μ) / (s / sqrt(n))</b>\n",
    "\n",
    "\n",
    "Where:\n",
    "\n",
    "    x̄ is the sample mean, \n",
    "\n",
    "    μ is the hypothesized population mean, \n",
    "\n",
    "    s is the sample standard deviation,  \n",
    "\n",
    "    n is the sample size.\n",
    "\n",
    "\n",
    "\n",
    "Substituting the values, we get:\n",
    "\n",
    "    t = (8 - 10) / (3 / √100) = -6.67\n",
    "\n",
    "Since the calculated t-value (-6.67) is less than the critical t-value (-1.660), we reject the null hypothesis. This means that the sample provides evidence that the new drug decreases blood pressure by less than 10 mmHg."
   ]
  },
  {
   "cell_type": "markdown",
   "metadata": {},
   "source": [
    "**Q15. An electronics company produces a certain type of product with a mean weight of 5 pounds and a standard deviation of 0.5 pounds. A random sample of 25 products is taken, and the sample mean weight is found to be 4.8 pounds. Test the hypothesis that the true mean weight of the products is less than 5 pounds with a significance level of 0.01.**\n",
    "\n",
    "**Ans:**\n",
    "\n",
    "Given:\n",
    "\n",
    "    Population mean weight (µ) = 5 pounds\n",
    "    Population standard deviation (σ) = 0.5 pounds\n",
    "    Sample mean weight (x̄) = 4.8 pounds\n",
    "    Sample size (n) = 25\n",
    "    Significance level (α) = 0.01 (one-tailed test)\n",
    "    \n",
    "We need to test the null hypothesis:\n",
    "\n",
    "    H0: µ >= 5\n",
    "    \n",
    "against the alternative hypothesis:\n",
    "\n",
    "    Ha: µ < 5\n",
    "\n",
    "We will use a t-test since the population standard deviation is unknown and the sample size is less than 30.\n",
    "\n",
    "The t-statistic can be calculated as:\n",
    "\n",
    "    t = (x̄ - µ) / (s / √n)\n",
    "    \n",
    "where \n",
    "\n",
    "    x̄ is the sample mean, \n",
    "\n",
    "    μ is the hypothesized population mean, \n",
    "\n",
    "    s is the sample standard deviation,  \n",
    "\n",
    "    n is the sample size.\n",
    "\n",
    "The sample standard deviation can be estimated using the population standard deviation as follows:\n",
    "\n",
    "    s = σ / √n\n",
    "\n",
    "Substituting the values, we get:\n",
    "\n",
    "    s = 0.5 / √25 = 0.1\n",
    "    t = (4.8 - 5) / (0.1) = -2\n",
    "\n",
    "Using a t-table with 24 degrees of freedom (n-1), at a 0.01 level of significance and a one-tailed test, we find the critical value to be -2.492.\n",
    "\n",
    "Since the calculated t-value (-2) is greater than the critical t-value (-2.492), we reject the null hypothesis.\n",
    "\n",
    "Therefore, we can conclude that there is sufficient evidence to support the alternative hypothesis that the true mean weight of the products is less than 5 pounds."
   ]
  },
  {
   "cell_type": "markdown",
   "metadata": {},
   "source": [
    "**Q16. Two groups of students are given different study materials to prepare for a test. The first group (n1 = 30) has a mean score of 80 with a standard deviation of 10, and the second group (n2 = 40) has a mean score of 75 with a standard deviation of 8. Test the hypothesis that the population means for the two groups are equal with a significance level of 0.01.**\n",
    "\n",
    "**Ans:**\n",
    "\n",
    "To test the hypothesis that the population means for the two groups are equal, we can use a two-sample t-test for independent samples. The null hypothesis is that the population means are equal, and the alternative hypothesis is that they are not equal.\n",
    "\n",
    "Let μ1 be the population mean for the first group and μ2 be the population mean for the second group.\n",
    "\n",
    "The null and alternative hypotheses are:\n",
    "\n",
    "H0: μ1 = μ2\n",
    "Ha: μ1 ≠ μ2\n",
    "\n",
    "The significance level is 0.01.\n",
    "\n",
    "We can use the following formula to calculate the t-statistic:\n",
    "\n",
    "t = (x1 - x2) / sqrt(s1^2/n1 + s2^2/n2)\n",
    "\n",
    "where x1 and x2 are the sample means, s1 and s2 are the sample standard deviations, and n1 and n2 are the sample sizes.\n",
    "\n",
    "Substituting the values from the problem, we get:\n",
    "\n",
    "t = (80 - 75) / sqrt(10^2/30 + 8^2/40) = 2.65\n",
    "\n",
    "The degrees of freedom for the t-test is given by:\n",
    "\n",
    "df = (s1^2/n1 + s2^2/n2)^2 / ((s1^2/n1)^2 / (n1 - 1) + (s2^2/n2)^2 / (n2 - 1))\n",
    "\n",
    "Substituting the values from the problem, we get:\n",
    "\n",
    "df = (10^2/30 + 8^2/40)^2 / ((10^2/30)^2 / 29 + (8^2/40)^2 / 39) = 61.5 (rounded to the nearest integer)\n",
    "\n",
    "Using a t-distribution table with 61 degrees of freedom and a two-tailed test with a significance level of 0.01, we find the critical t-value to be ±2.660.\n",
    "\n",
    "Since our calculated t-value of 2.65 falls within the range of -2.660 to 2.660, we fail to reject the null hypothesis.\n",
    "\n",
    "Therefore, we conclude that there is not enough evidence to suggest that the population means for the two groups are different at a significance level of 0.01."
   ]
  },
  {
   "cell_type": "markdown",
   "metadata": {},
   "source": [
    "**Q17. A marketing company wants to estimate the average number of ads watched by viewers during a TV program. They take a random sample of 50 viewers and find that the sample mean is 4 with a standard deviation of 1.5. Estimate the population mean with a 99% confidence interval.**\n",
    "\n",
    "**Ans:**\n",
    "\n",
    "To estimate the population mean with a 99% confidence interval, we can use the following formula:\n",
    "\n",
    "    Confidence interval = sample mean +/- margin of error\n",
    "\n",
    "where the margin of error is calculated as:\n",
    "\n",
    "    Margin of error = t-value x standard error\n",
    "\n",
    "The t-value depends on the sample size and the level of confidence. We can use the t-distribution table or the scipy.stats module in Python to find the t-value. For a 99% confidence interval with 49 degrees of freedom (n-1), the t-value is 2.680.\n",
    "\n",
    "The standard error is calculated as:\n",
    "\n",
    "    Standard error = standard deviation / sqrt(sample size)\n",
    "\n",
    "Substituting the given values, we get:\n",
    "\n",
    "    Standard error = 1.5 / sqrt(50) = 0.212\n",
    "\n",
    "Therefore, the margin of error is:\n",
    "\n",
    "    Margin of error = 2.680 x 0.212 = 0.569\n",
    "\n",
    "Finally, the confidence interval is:\n",
    "\n",
    "    Confidence interval = 4 +/- 0.569\n",
    "\n",
    "    Confidence interval = (3.431, 4.569)\n",
    "\n",
    "Therefore, we can say with 99% confidence that the population mean number of ads watched by viewers during a TV program is between 3.431 and 4.569."
   ]
  },
  {
   "cell_type": "code",
   "execution_count": null,
   "metadata": {},
   "outputs": [],
   "source": []
  }
 ],
 "metadata": {
  "kernelspec": {
   "display_name": "Python 3",
   "language": "python",
   "name": "python3"
  },
  "language_info": {
   "codemirror_mode": {
    "name": "ipython",
    "version": 3
   },
   "file_extension": ".py",
   "mimetype": "text/x-python",
   "name": "python",
   "nbconvert_exporter": "python",
   "pygments_lexer": "ipython3",
   "version": "3.8.5"
  }
 },
 "nbformat": 4,
 "nbformat_minor": 4
}
