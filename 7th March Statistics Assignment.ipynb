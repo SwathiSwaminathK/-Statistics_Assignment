{
 "cells": [
  {
   "cell_type": "markdown",
   "metadata": {},
   "source": [
    "**Q1.** What are the three measures of central tendency?\n",
    "\n",
    "**Ans:**\n",
    "\n",
    "The three measures of central tendency are:\n",
    "\n",
    "* Mean: The mean is the most common measure of central tendency. It is calculated by adding up all the values in a dataset and dividing by the total number of values. It is also known as the arithmetic average.\n",
    "\n",
    "* Median: The median is the middle value in a dataset when the values are arranged in order of magnitude. If there are an even number of values, the median is the average of the two middle values.\n",
    "\n",
    "* Mode: The mode is the value that appears most frequently in a dataset. A dataset can have one or more modes, or no mode at all if there is no value that appears more than once."
   ]
  },
  {
   "cell_type": "markdown",
   "metadata": {},
   "source": [
    "**Q2.** What is the difference between the mean, median, and mode? How are they used to measure the central tendency of a dataset?\n",
    "\n",
    "**Ans:**\n",
    "\n",
    "The mean, median, and mode are all measures of central tendency used to describe the center of a dataset. \n",
    "\n",
    "* Mean: The mean is the sum of all the values in a dataset divided by the number of values. It is the most commonly used measure of central tendency, and it is often used to describe the average value in a dataset. However, it is sensitive to outliers or extreme values that can skew the result.\n",
    "\n",
    "\n",
    "* Median: The median is the middle value of a dataset when the values are arranged in order of magnitude. It represents the midpoint of the distribution, and it is not affected by outliers, unlike the mean. It is useful when the data is skewed or has extreme values.\n",
    "\n",
    "\n",
    "* Mode: The mode is the value that occurs most frequently in a dataset. It is useful for identifying the most common value or category in a dataset. It is particularly useful when dealing with categorical data, where the mean and median do not apply."
   ]
  },
  {
   "cell_type": "markdown",
   "metadata": {},
   "source": [
    "**Q3.** Measure the three measures of central tendency for the given height data:\n",
    "\n",
    "[178,177,176,177,178.2,178,175,179,180,175,178.9,176.2,177,172.5,178,176.5]\n",
    "\n",
    "**Ans:**"
   ]
  },
  {
   "cell_type": "markdown",
   "metadata": {},
   "source": [
    "**Q4.** Find the standard deviation for the given data:\n",
    "\n",
    "[178,177,176,177,178.2,178,175,179,180,175,178.9,176.2,177,172.5,178,176.5]\n",
    "\n",
    "**Ans:**\n",
    "\n",
    "<b>mean</b> = ( 178 + 177 + 176 + 177 + 178.2 + 178 + 175 + 179 + 180 + 175 + 178.9 + 176.2 + 177 + 172.5 + 178 + 176.5 ) / 16 = 176.96\n",
    "\n",
    "<u>Median</u>\n",
    "\n",
    "Arranging the values in order of magnitude: [172.5, 175, 175, 176, 176.2, 176.5, 177, 177, 177, 178, 178, 178, 178.2, 178.9, 179, 180]\n",
    "\n",
    "Since there are 16 values, which is an even number, the median is the average of the two middle values.\n",
    "\n",
    "The two middle values are the 8th and 9th values when we arrange the values in order, which are both 177. Therefore, the median is:\n",
    "\n",
    "<b>median</b> = (177 + 177) / 2 = 177\n",
    "\n",
    "<b>Mode</b> = 177 cm and 178 cm\n",
    "\n",
    "OR\n"
   ]
  },
  {
   "cell_type": "code",
   "execution_count": 5,
   "metadata": {},
   "outputs": [],
   "source": [
    "import numpy as np\n",
    "\n",
    "data = [178,177,176,177,178.2,178,175,179,180,175,178.9,176.2,177,172.5,178,176.5]"
   ]
  },
  {
   "cell_type": "code",
   "execution_count": 6,
   "metadata": {},
   "outputs": [
    {
     "data": {
      "text/plain": [
       "177.01875"
      ]
     },
     "execution_count": 6,
     "metadata": {},
     "output_type": "execute_result"
    }
   ],
   "source": [
    "np.mean(data)"
   ]
  },
  {
   "cell_type": "code",
   "execution_count": 7,
   "metadata": {},
   "outputs": [
    {
     "data": {
      "text/plain": [
       "177.0"
      ]
     },
     "execution_count": 7,
     "metadata": {},
     "output_type": "execute_result"
    }
   ],
   "source": [
    "np.median(data)"
   ]
  },
  {
   "cell_type": "code",
   "execution_count": 8,
   "metadata": {},
   "outputs": [
    {
     "data": {
      "text/plain": [
       "ModeResult(mode=array([177.]), count=array([3]))"
      ]
     },
     "execution_count": 8,
     "metadata": {},
     "output_type": "execute_result"
    }
   ],
   "source": [
    "from scipy import stats\n",
    "stats.mode(data)"
   ]
  },
  {
   "cell_type": "markdown",
   "metadata": {},
   "source": [
    "**Q5.** How are measures of dispersion such as range, variance, and standard deviation used to describe the spread of a dataset? Provide an example.\n",
    "\n",
    "**Ans:**\n",
    "\n",
    "<b>Range:</b> The range is the difference between the maximum and minimum values in a dataset. It is a simple measure of dispersion, but it can be affected by outliers.\n",
    "\n",
    "For example, if we have a dataset of exam scores for a class of students: 50, 60, 70, 80, and 100, the range would be 100 - 50 = 50.\n",
    "\n",
    "<b>Variance:</b> The variance is a measure of how much the data deviates from the mean. It is calculated by summing the squared differences between each value and the mean, and dividing by the number of values minus one. A higher variance indicates a larger spread of data points.\n",
    "\n",
    "For example, if we have a dataset of exam scores for a class of students: 50, 60, 70, 80, and 100, the variance would be ((50-72)^2 + (60-72)^2 + (70-72)^2 + (80-72)^2 + (100-72)^2) / (5-1) = 440.\n",
    "\n",
    "<b>Standard Deviation:</b> The standard deviation is the square root of the variance, and it is expressed in the same units as the original data. It provides a measure of the typical distance that each data point is from the mean. A higher standard deviation indicates a larger spread of data points.\n",
    "\n",
    "For example, if we have a dataset of exam scores for a class of students: 50, 60, 70, 80, and 100, the standard deviation would be the square root of the variance: sqrt(440) ≈ 20.99."
   ]
  },
  {
   "cell_type": "markdown",
   "metadata": {},
   "source": [
    "**Q6.** What is a Venn diagram?\n",
    "\n",
    "**Ans:**\n",
    "\n",
    "A Venn diagram is a graphical representation of the relationships between different sets of data. It is composed of overlapping circles or other shapes that represent the sets, and the regions of overlap represent the elements that belong to more than one set.\n",
    "\n",
    "Venn diagrams are commonly used in mathematics, statistics, and other fields to represent the relationships between different sets of data, such as:\n",
    "\n",
    "\n",
    "* In a class of students, a Venn diagram can be used to represent the relationships between students who play sports, those who participate in music activities, and those who do both.\n",
    "\n",
    "\n",
    "* In a marketing campaign, a Venn diagram can be used to represent the relationships between customers who purchased product A, those who purchased product B, and those who purchased both products.\n",
    "\n",
    "\n",
    "* In a survey, a Venn diagram can be used to represent the relationships between respondents who identify as male, those who identify as female, and those who identify as non-binary."
   ]
  },
  {
   "cell_type": "markdown",
   "metadata": {},
   "source": [
    "**Q7.** For the two given sets A = (2,3,4,5,6,7) & B = (0,2,6,8,10). \n",
    "\n",
    "Find:\n",
    "\n",
    "(i) A ∩ B \n",
    "\n",
    "(ii) A ⋃ B\n",
    "\n",
    "**Ans:**\n",
    "\n",
    "(i) A ∩ B = {2, 6}\n",
    "\n",
    "(ii) A ⋃ B = {0, 2, 3, 4, 5, 6, 7, 8, 10}"
   ]
  },
  {
   "cell_type": "markdown",
   "metadata": {},
   "source": [
    "**Q8.** What do you understand about skewness in data?\n",
    "\n",
    "**Ans:**\n",
    "\n",
    "Skewness is a statistical measure that describes the degree of asymmetry of a probability distribution or a dataset. In other words, it measures the extent to which the distribution of data is not symmetrical. A perfectly symmetrical distribution has equal amounts of data on both sides of the mean, resulting in a skewness value of zero. However, if the data distribution has a long tail on one side, it is said to be skewed. A positive skewness value means that the tail is longer on the right side of the distribution, while a negative skewness value means that the tail is longer on the left side of the distribution."
   ]
  },
  {
   "cell_type": "markdown",
   "metadata": {},
   "source": [
    "**Q9.** If a data is right skewed then what will be the position of median with respect to mean?\n",
    "\n",
    "**Ans:**\n",
    "\n",
    "If a dataset is right skewed, then it has a long tail to the right and the majority of the data is concentrated on the left side of the distribution. In this case, the mean will be pulled towards the right by the long tail, making it larger than the median.\n",
    "\n",
    "Specifically, when a dataset is right skewed, the median will be smaller than the mean. This is because the median is the middle value of the dataset, and since the majority of the data is on the left side, the median will be closer to the left side of the distribution. Meanwhile, the mean takes into account the values of all the data points and is influenced by the outliers on the right side, which pulls it towards the right and makes it larger than the median.\n",
    "\n",
    "For example:\n",
    "\n",
    "{2, 3, 4, 5, 10, 20, 30}\n",
    "\n",
    "The median is 5, which is the middle value of the dataset. The mean, on the other hand, is (2+3+4+5+10+20+30)/7 = 10.14. Since the right tail of the distribution is longer than the left tail, the mean is greater than the median."
   ]
  },
  {
   "cell_type": "markdown",
   "metadata": {},
   "source": [
    "**Q10.** Explain the difference between covariance and correlation. How are these measures used in\n",
    "statistical analysis?\n",
    "\n",
    "**Ans:**\n",
    "\n",
    "Covariance measures the degree to which two variables vary together. It is a measure of the joint variability of two random variables. A positive covariance means that the variables tend to increase or decrease together, while a negative covariance means that one variable tends to increase while the other decreases. However, covariance alone does not indicate the strength of the relationship or how much the variables are related.\n",
    "\n",
    "Correlation, on the other hand, measures the strength and direction of the relationship between two variables. It is a standardized measure that ranges from -1 to 1. A correlation of 1 indicates a perfect positive relationship, a correlation of -1 indicates a perfect negative relationship, and a correlation of 0 indicates no relationship. A correlation of 0.5 or -0.5 indicates a moderate relationship, while a correlation of 0.8 or -0.8 indicates a strong relationship."
   ]
  },
  {
   "cell_type": "markdown",
   "metadata": {},
   "source": [
    "**Q11.** What is the formula for calculating the sample mean? Provide an example calculation for a\n",
    "dataset.\n",
    "\n",
    "**Ans:**\n",
    "\n",
    "The formula for calculating the sample mean is:\n",
    "\n",
    "x̄ = (Σx) / n\n",
    "\n",
    "where x̄ is the sample mean, Σx is the sum of all the data points in the dataset, and n is the number of data points in the dataset.\n",
    "\n",
    "example:\n",
    "\n",
    "{2, 4, 6, 8, 10}\n",
    "\n",
    "x̄ = (2 + 4 + 6 + 8 + 10) / 5\n",
    "\n",
    "x̄ = 30 / 5\n",
    "\n",
    "x̄ = 6"
   ]
  },
  {
   "cell_type": "markdown",
   "metadata": {},
   "source": [
    "**Q12.** For a normal distribution data what is the relationship between its measure of central tendency?\n",
    "\n",
    "**Ans:**\n",
    "\n",
    "For a normal distribution, the measure of central tendency, such as the mean, median, and mode, are all the same value. This is because the normal distribution is symmetric, with the data points evenly distributed around the mean.\n",
    "\n",
    "In a normal distribution, the mean represents the center of the distribution, while the median represents the middle value, and the mode represents the most frequently occurring value. Since the distribution is symmetric, the mean, median, and mode all coincide at the center of the distribution."
   ]
  },
  {
   "cell_type": "markdown",
   "metadata": {},
   "source": [
    "**Q13.** How is covariance different from correlation?\n",
    "\n",
    "**Ans:**\n",
    "\n",
    "Covariance and correlation are both measures of the relationship between two variables in a dataset. However, they differ in several ways:\n",
    "\n",
    "1. Scale-dependence: Covariance is scale-dependent, while correlation is scale-free. Covariance measures the degree to which two variables vary together, but the magnitude of covariance is affected by the scale of the variables. Correlation, on the other hand, is a standardized measure that ranges from -1 to 1, and it is not affected by the scale of the variables.\n",
    "\n",
    "\n",
    "2. Interpretation: Covariance measures the direction of the relationship between two variables (whether they tend to increase or decrease together), but it does not indicate the strength of the relationship. Correlation, on the other hand, measures both the direction and the strength of the relationship between two variables.\n",
    "\n",
    "\n",
    "3. Range: Covariance can take on any value, both positive and negative, while correlation is always between -1 and 1. A positive covariance means that the variables tend to increase or decrease together, while a negative covariance means that one variable tends to increase while the other decreases. A correlation of 1 indicates a perfect positive relationship, a correlation of -1 indicates a perfect negative relationship, and a correlation of 0 indicates no relationship."
   ]
  },
  {
   "cell_type": "markdown",
   "metadata": {},
   "source": [
    "**Q14.** How do outliers affect measures of central tendency and dispersion? Provide an example.\n",
    "\n",
    "**Ans:**\n",
    "\n",
    "Outliers can have a significant impact on measures of central tendency and dispersion. An outlier is a data point that is significantly different from other data points in the dataset. Outliers can occur due to measurement errors, data entry errors, or rare events.\n",
    "\n",
    "The presence of outliers can affect measures of central tendency in the following ways:\n",
    "\n",
    "1. Mean: Outliers can have a large effect on the mean, especially if the dataset is small. The mean is sensitive to extreme values, and the presence of an outlier can pull the mean in the direction of the outlier.\n",
    "\n",
    "\n",
    "2. Median: Outliers have little or no effect on the median. The median is the middle value of the dataset, and it is not affected by extreme values that occur at the tails of the distribution.\n",
    "\n",
    "\n",
    "3. Mode: Outliers can affect the mode, especially if the dataset is small. The mode is the most frequently occurring value in the dataset, and the presence of an outlier can shift the mode to a different value.\n",
    "\n",
    "\n",
    "The presence of outliers can also affect measures of dispersion in the following ways:\n",
    "\n",
    "1. Range: Outliers can increase the range of the dataset, as the range is defined as the difference between the maximum and minimum values in the dataset. If an outlier is significantly larger or smaller than other data points in the dataset, it can increase the range.\n",
    "\n",
    "\n",
    "2. Variance and Standard Deviation: Outliers can increase the variance and standard deviation of the dataset, as these measures are based on the deviation of each data point from the mean. If an outlier is far from the mean, it can increase the variance and standard deviation.\n",
    "\n",
    "\n",
    "Example:\n",
    "\n",
    "{5, 6, 7, 8, 9, 20}\n",
    "\n",
    "In this dataset, the value 20 is an outlier because it is significantly larger than the other data points. \n",
    "\n",
    "mean = (5 + 6 + 7 + 8 + 9 + 20) / 6 = 9.17\n",
    "\n",
    "median = (7 + 8) / 2 = 7.5\n",
    "\n",
    "mode = There is no mode because no value appears more than once\n",
    "\n",
    "range = 20 - 5 = 15\n",
    "\n",
    "variance = 29.67\n",
    "\n",
    "standard deviation = 5.45"
   ]
  },
  {
   "cell_type": "code",
   "execution_count": null,
   "metadata": {},
   "outputs": [],
   "source": []
  }
 ],
 "metadata": {
  "kernelspec": {
   "display_name": "Python 3",
   "language": "python",
   "name": "python3"
  },
  "language_info": {
   "codemirror_mode": {
    "name": "ipython",
    "version": 3
   },
   "file_extension": ".py",
   "mimetype": "text/x-python",
   "name": "python",
   "nbconvert_exporter": "python",
   "pygments_lexer": "ipython3",
   "version": "3.8.5"
  }
 },
 "nbformat": 4,
 "nbformat_minor": 4
}
