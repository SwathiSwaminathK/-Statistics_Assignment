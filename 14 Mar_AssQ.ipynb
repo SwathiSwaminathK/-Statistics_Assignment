{
 "cells": [
  {
   "cell_type": "markdown",
   "metadata": {},
   "source": [
    "**Q1. Write a Python function that takes in two arrays of data and calculates the F-value for a variance ratio\n",
    "test. The function should return the F-value and the corresponding p-value for the test.**\n",
    "\n",
    "**Ans:**"
   ]
  },
  {
   "cell_type": "code",
   "execution_count": 2,
   "metadata": {},
   "outputs": [
    {
     "name": "stdout",
     "output_type": "stream",
     "text": [
      "F-value: 4.387122002085506 \n",
      "p-value: 0.01912653593238578\n"
     ]
    }
   ],
   "source": [
    "import numpy as np\n",
    "import scipy.stats as stat\n",
    "\n",
    "worker1= [18, 19, 22, 25, 27, 28, 41, 45, 51, 55]\n",
    "worker2= [14, 15, 15, 17, 18, 22, 25, 25, 27, 34]\n",
    "\n",
    "x = np.array(worker1)\n",
    "y = np.array(worker2)\n",
    "\n",
    "def f_and_p(x,y):\n",
    "    f = np.var(x)/np.var(y)\n",
    "    x = len(x) - 1\n",
    "    y = len(y) - 1\n",
    "    p_value = 1-stat.f.cdf(f,x,y)\n",
    "    print(f\"F-value: {f} \\np-value: {p_value}\")\n",
    "\n",
    "f_and_p(x,y)"
   ]
  },
  {
   "cell_type": "markdown",
   "metadata": {},
   "source": [
    "**Q2. Given a significance level of 0.05 and the degrees of freedom for the numerator and denominator of an\n",
    "F-distribution, write a Python function that returns the critical F-value for a two-tailed test.**\n",
    "\n",
    "**Ans:**"
   ]
  },
  {
   "cell_type": "code",
   "execution_count": 3,
   "metadata": {},
   "outputs": [
    {
     "data": {
      "text/plain": [
       "2.009575234489209"
      ]
     },
     "execution_count": 3,
     "metadata": {},
     "output_type": "execute_result"
    }
   ],
   "source": [
    "significance_level = 0.05\n",
    "stat.t.ppf(q=1-.05/2,df=49)"
   ]
  },
  {
   "cell_type": "markdown",
   "metadata": {},
   "source": [
    "**Q3. Write a Python program that generates random samples from two normal distributions with known variances and uses an F-test to determine if the variances are equal. The program should output the F-value, degrees of freedom, and p-value for the test.**\n",
    "\n",
    "**Ans:**"
   ]
  },
  {
   "cell_type": "code",
   "execution_count": 4,
   "metadata": {},
   "outputs": [
    {
     "name": "stdout",
     "output_type": "stream",
     "text": [
      "The F-value:  0.4030463392763856\n",
      "The Degree of freedom:  197\n",
      "The P-value:  4.763749192132515e-06\n"
     ]
    }
   ],
   "source": [
    "import numpy as np\n",
    "from scipy.stats import f\n",
    "np.random.seed(42)\n",
    "\n",
    "sample1 = np.random.normal(loc=0,scale=1,size=100)\n",
    "sample2 = np.random.normal(loc=0,scale=1.5,size=100)\n",
    "\n",
    "# Calculate variance\n",
    "var1 = np.var(sample1,ddof=1)\n",
    "var2 = np.var(sample2,ddof=1)\n",
    "\n",
    "F_test = var1/var2\n",
    "\n",
    "df1 = len(sample1) - 1\n",
    "df2 = len(sample2) - 2\n",
    "df = df1  +  df2\n",
    "\n",
    "p_value = f.cdf(F_test,df1,df2)\n",
    "\n",
    "print(\"The F-value: \",F_test)\n",
    "print(\"The Degree of freedom: \",df)\n",
    "print(\"The P-value: \",p_value)"
   ]
  },
  {
   "cell_type": "markdown",
   "metadata": {},
   "source": [
    "**Q4.The variances of two populations are known to be 10 and 15. A sample of 12 observations is taken from each population. Conduct an F-test at the 5% significance level to determine if the variances are significantly different.**\n",
    "\n",
    "**Ans:**\n",
    "\n",
    "To conduct an F-test at the 5% significance level to determine if the variances of two populations with known variances of 10 and 15 are significantly different, we can use the following steps:\n",
    "\n",
    "1. Define the null and alternative hypotheses:\n",
    "\n",
    "    * Null hypothesis: The variances of the two populations are equal.\n",
    "\n",
    "    * Alternative hypothesis: The variances of the two populations are not equal.\n",
    "    \n",
    "\n",
    "2. Determine the significance level (α) and the degrees of freedom (df) for the F-distribution.\n",
    "\n",
    "    Since we are conducting the F-test at a 5% significance level, α = 0.05. The degrees of freedom for the numerator and denominator are given by:\n",
    "\n",
    "        df numerator = n1 - 1 = 12 - 1 = 11\n",
    "    \n",
    "        df denominator = n2 - 1 = 12 - 1 = 11\n",
    "    \n",
    "\n",
    "3. Calculate the F-statistic:\n",
    "\n",
    "    F = S1^2 / S2^2\n",
    "\n",
    "    where S1^2 and S2^2 are the sample variances of the two populations.\n",
    "\n",
    "    Since the variances of the two populations are known, we can use them as the sample variances. Thus, we have:\n",
    "\n",
    "        F = 10 / 15 = 0.67\n",
    "    \n",
    "\n",
    "4. Determine the critical value for the F-distribution:\n",
    "\n",
    "    Using an F-table with α = 0.05 and df numerator = 11 and df denominator = 11, we find the critical value to be 2.54.\n",
    "    \n",
    "\n",
    "5. Compare the F-statistic to the critical value:\n",
    "\n",
    "    Since the F-statistic of 0.67 is less than the critical value of 2.54, we fail to reject the null hypothesis. We do not have enough evidence to conclude that the variances of the two populations are significantly different at the 5% significance level.\n",
    "\n",
    "Therefore, we can conclude that there is not enough evidence to suggest that the variances of the two populations are significantly different at a 5% significance level."
   ]
  },
  {
   "cell_type": "markdown",
   "metadata": {},
   "source": [
    "**Q5. A manufacturer claims that the variance of the diameter of a certain product is 0.005. A sample of 25 products is taken, and the sample variance is found to be 0.006. Conduct an F-test at the 1% significance level to determine if the claim is justified.**\n",
    "\n",
    "**Ans:**\n",
    "\n",
    "To conduct an F-test at the 1% significance level to determine if the claim that the variance of the diameter of a certain product is 0.005 is justified, we can use the following steps:\n",
    "\n",
    "\n",
    "1. Define the null and alternative hypotheses:\n",
    "\n",
    "    * Null hypothesis: The variance of the diameter of the product is equal to 0.005.\n",
    "\n",
    "    * Alternative hypothesis: The variance of the diameter of the product is greater than 0.005.\n",
    "\n",
    "\n",
    "2. Determine the significance level (α) and the degrees of freedom (df) for the F-distribution.\n",
    "\n",
    "    Since we are conducting the F-test at a 1% significance level, α = 0.01. The degrees of freedom for the numerator and denominator are given by:\n",
    "\n",
    "        df numerator = n - 1 = 25 - 1 = 24\n",
    "\n",
    "        df denominator = N - n = N - 25\n",
    "\n",
    "        where N is the total number of products.\n",
    "\n",
    "\n",
    "3. Calculate the F-statistic:\n",
    "\n",
    "    F = S^2 / σ^2\n",
    "\n",
    "    where S^2 is the sample variance and σ^2 is the population variance.\n",
    "\n",
    "    We have S^2 = 0.006 and σ^2 = 0.005. Thus, we have:\n",
    "\n",
    "        F = 0.006 / 0.005 = 1.2\n",
    "\n",
    "\n",
    "4. Determine the critical value for the F-distribution:\n",
    "\n",
    "    Using an F-table with α = 0.01 and df numerator = 24 and df denominator = N - 25, we find the critical value to be 3.98.\n",
    "\n",
    "\n",
    "5. Compare the F-statistic to the critical value:\n",
    "\n",
    "    Since the F-statistic of 1.2 is less than the critical value of 3.98, we fail to reject the null hypothesis. We do not have enough evidence to conclude that the variance of the diameter of the product is significantly greater than 0.005 at the 1% significance level.\n",
    "\n",
    "\n",
    "Therefore, we can conclude that there is not enough evidence to suggest that the manufacturer's claim that the variance of the diameter of the product is 0.005 is unjustified at a 1% significance level."
   ]
  },
  {
   "cell_type": "markdown",
   "metadata": {},
   "source": [
    "**Q6. Write a Python function that takes in the degrees of freedom for the numerator and denominator of an F-distribution and calculates the mean and variance of the distribution. The function should return the mean and variance as a tuple.**\n",
    "\n",
    "**Ans:**"
   ]
  },
  {
   "cell_type": "code",
   "execution_count": 2,
   "metadata": {},
   "outputs": [
    {
     "name": "stdout",
     "output_type": "stream",
     "text": [
      "Mean:  1.25\n",
      "Variance:  1.3541666666666667\n"
     ]
    }
   ],
   "source": [
    "import numpy as np\n",
    "\n",
    "def f_distribution_stats(df_num, df_den):\n",
    "    mean = df_den / (df_den - 2)\n",
    "    var = (2 * (df_den**2) * (df_num + df_den - 2)) / ((df_num * (df_den - 2)**2 * (df_den - 4)))\n",
    "    return mean, var\n",
    "\n",
    "mean, var = f_distribution_stats(5, 10)\n",
    "print(\"Mean: \", mean)\n",
    "print(\"Variance: \", var)"
   ]
  },
  {
   "cell_type": "markdown",
   "metadata": {},
   "source": [
    "**Q7. A random sample of 10 measurements is taken from a normal population with unknown variance. The sample variance is found to be 25. Another random sample of 15 measurements is taken from another normal population with unknown variance, and the sample variance is found to be 20. Conduct an F-test at the 10% significance level to determine if the variances are significantly different.**\n",
    "\n",
    "**Ans:**\n",
    "\n",
    "To conduct an F-test at the 10% significance level to determine if the variances of two normal populations are significantly different, we can use the following steps:\n",
    "\n",
    "\n",
    "1. Define the null and alternative hypotheses:\n",
    "\n",
    "    * Null hypothesis: The variances of the two populations are equal.\n",
    "    * Alternative hypothesis: The variances of the two populations are not equal.\n",
    "    \n",
    "\n",
    "2. Determine the significance level (α) and the degrees of freedom (df) for the F-distribution.\n",
    "\n",
    "    Since we are conducting the F-test at a 10% significance level, α = 0.1. The degrees of freedom for the numerator and denominator are given by:\n",
    "\n",
    "        df numerator = n1 - 1 = 10 - 1 = 9\n",
    "        \n",
    "        df denominator = n2 - 1 = 15 - 1 = 14\n",
    "\n",
    "        where n1 and n2 are the sample sizes.\n",
    "        \n",
    "\n",
    "3. Calculate the F-statistic:\n",
    "\n",
    "    F = s1^2 / s2^2\n",
    "\n",
    "    where s1^2 and s2^2 are the sample variances.\n",
    "\n",
    "    We have s1^2 = 25 and s2^2 = 20. Thus, we have:\n",
    "\n",
    "    F = 25 / 20 = 1.25\n",
    "    \n",
    "\n",
    "4. Determine the critical values for the F-distribution:\n",
    "\n",
    "    Using an F-table with α = 0.1, df numerator = 9 and df denominator = 14, we find the critical values to be 0.284 and 3.051.\n",
    "    \n",
    "\n",
    "5. Compare the F-statistic to the critical values:\n",
    "\n",
    "    Since the F-statistic of 1.25 falls between the critical values of 0.284 and 3.051, we fail to reject the null hypothesis. We do not have enough evidence to conclude that the variances of the two populations are significantly different at the 10% significance level.\n",
    "    \n",
    "\n",
    "Therefore, we can conclude that there is not enough evidence to suggest that the variances of the two normal populations are significantly different at a 10% significance level."
   ]
  },
  {
   "cell_type": "markdown",
   "metadata": {},
   "source": [
    "**Q8. The following data represent the waiting times in minutes at two different restaurants on a Saturday night: Restaurant A: 24, 25, 28, 23, 22, 20, 27; \n",
    "Restaurant B: 31, 33, 35, 30, 32, 36. \n",
    "Conduct an F-test at the 5% significance level to determine if the variances are significantly different.**\n",
    "\n",
    "**Ans:**\n",
    "\n",
    "To conduct an F-test at the 5% significance level to determine if the variances of two populations are significantly different, we can use the following steps:\n",
    "\n",
    "\n",
    "1. Define the null and alternative hypotheses:\n",
    "\n",
    "    * Null hypothesis: The variances of the two populations are equal.\n",
    "    * Alternative hypothesis: The variances of the two populations are not equal.\n",
    "    \n",
    "\n",
    "2. Determine the significance level (α) and the degrees of freedom (df) for the F-distribution.\n",
    "\n",
    "    Since we are conducting the F-test at a 5% significance level, α = 0.05. The degrees of freedom for the numerator and denominator are given by:\n",
    "\n",
    "        df numerator = n1 - 1 = 7 - 1 = 6\n",
    "    \n",
    "        df denominator = n2 - 1 = 6 - 1 = 5\n",
    "\n",
    "        where n1 and n2 are the sample sizes.\n",
    "        \n",
    "\n",
    "3. Calculate the sample variances:\n",
    "\n",
    "    We have n1 = 7 and n2 = 6. The sample variances for Restaurant A and Restaurant B are:\n",
    "\n",
    "    s1^2 = ((24-25.7)^2 + (25-25.7)^2 + (28-25.7)^2 + (23-25.7)^2 + (22-25.7)^2 + (20-25.7)^2 + (27-25.7)^2) / (7-1) = 8.86\n",
    "\n",
    "    s2^2 = ((31-32.83)^2 + (33-32.83)^2 + (35-32.83)^2 + (30-32.83)^2 + (32-32.83)^2 + (36-32.83)^2) / (6-1) = 5.98\n",
    "    \n",
    "\n",
    "4. Calculate the F-statistic:\n",
    "\n",
    "    F = s1^2 / s2^2\n",
    "\n",
    "    We have F = 8.86 / 5.98 = 1.48\n",
    "    \n",
    "\n",
    "5. Determine the critical values for the F-distribution:\n",
    "\n",
    "    Using an F-table with α = 0.05, df numerator = 6 and df denominator = 5, we find the critical values to be 0.217 and 5.385.\n",
    "    \n",
    "\n",
    "6. Compare the F-statistic to the critical values:\n",
    "\n",
    "    Since the F-statistic of 1.48 falls between the critical values of 0.217 and 5.385, we fail to reject the null hypothesis. We do not have enough evidence to conclude that the variances of the two populations are significantly different at the 5% significance level.\n",
    "    \n",
    "\n",
    "Therefore, we can conclude that there is not enough evidence to suggest that the variances of the waiting times at Restaurant A and Restaurant B are significantly different at a 5% significance level."
   ]
  },
  {
   "cell_type": "markdown",
   "metadata": {},
   "source": [
    "**Q9. The following data represent the test scores of two groups of students: Group A: 80, 85, 90, 92, 87, 83; Group B: 75, 78, 82, 79, 81, 84. Conduct an F-test at the 1% significance level to determine if the variances are significantly different.**\n",
    "\n",
    "**Ans:**\n",
    "\n",
    "To conduct an F-test for the equality of variances between the two groups, we can use the following steps:\n",
    "\n",
    "\n",
    "1. State the null and alternative hypotheses\n",
    "\n",
    "    * Null hypothesis: The variances of the two groups are equal.\n",
    "\n",
    "    * Alternative hypothesis: The variances of the two groups are not equal.\n",
    "    \n",
    "\n",
    "2. Set the level of significance\n",
    "\n",
    "    Let's set the level of significance to α = 0.01.\n",
    "    \n",
    "\n",
    "3. Calculate the test statistic\n",
    "\n",
    "    We can calculate the test statistic using the formula:\n",
    "\n",
    "        F = s1^2 / s2^2\n",
    "\n",
    "        where s1^2 and s2^2 are the sample variances for groups A and B, respectively.\n",
    "\n",
    "    s1^2 = ((80-86.17)^2 + (85-86.17)^2 + (90-86.17)^2 + (92-86.17)^2 + (87-86.17)^2 + (83-86.17)^2) / 5 = 21.97\n",
    "\n",
    "    s2^2 = ((75-80)^2 + (78-80)^2 + (82-80)^2 + (79-80)^2 + (81-80)^2 + (84-80)^2) / 5 = 7.2\n",
    "\n",
    "    F = 21.97 / 7.2 = 3.07\n",
    "    \n",
    "\n",
    "4. Determine the critical value\n",
    "\n",
    "    The critical value for an F-test with (n1-1) and (n2-1) degrees of freedom at α = 0.01 can be found using a table or a calculator. For this problem, the critical value is 7.32.\n",
    "    \n",
    "\n",
    "5. Make a decision\n",
    "\n",
    "    Since the calculated F-value (3.07) is less than the critical value (7.32), we fail to reject the null hypothesis. We do not have enough evidence to conclude that the variances of the two groups are significantly different at the 1% level of significance.\n",
    "    \n",
    "\n",
    "Therefore, we can conclude that there is not enough evidence to suggest that the variances of the two groups are significantly different."
   ]
  },
  {
   "cell_type": "code",
   "execution_count": null,
   "metadata": {},
   "outputs": [],
   "source": []
  }
 ],
 "metadata": {
  "kernelspec": {
   "display_name": "Python 3",
   "language": "python",
   "name": "python3"
  },
  "language_info": {
   "codemirror_mode": {
    "name": "ipython",
    "version": 3
   },
   "file_extension": ".py",
   "mimetype": "text/x-python",
   "name": "python",
   "nbconvert_exporter": "python",
   "pygments_lexer": "ipython3",
   "version": "3.8.5"
  }
 },
 "nbformat": 4,
 "nbformat_minor": 4
}
